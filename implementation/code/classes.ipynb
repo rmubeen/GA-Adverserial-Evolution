{
 "cells": [
  {
   "cell_type": "markdown",
   "metadata": {},
   "source": [
    "## Classes used in tamheed implementation"
   ]
  },
  {
   "cell_type": "markdown",
   "metadata": {},
   "source": [
    "Import libraries"
   ]
  },
  {
   "cell_type": "code",
   "execution_count": 1,
   "metadata": {},
   "outputs": [],
   "source": [
    "import random"
   ]
  },
  {
   "cell_type": "markdown",
   "metadata": {},
   "source": [
    "Utility Functions"
   ]
  },
  {
   "cell_type": "code",
   "execution_count": 2,
   "metadata": {},
   "outputs": [],
   "source": [
    "def randomListPick(list_obj, num):  \n",
    "    result = []\n",
    "\n",
    "    if (num >= len(list_obj)):\n",
    "        return list_obj, []\n",
    "\n",
    "    for i in range(num):\n",
    "        list_indeces = list(range(len(list_obj)))\n",
    "        index = random.choice(list_indeces)\n",
    "        result.append(list_obj.pop(index))\n",
    "        \n",
    "    return result, list_obj"
   ]
  },
  {
   "cell_type": "markdown",
   "metadata": {},
   "source": [
    "Genetic Algorithm"
   ]
  },
  {
   "cell_type": "code",
   "execution_count": 3,
   "metadata": {},
   "outputs": [],
   "source": [
    "class GA_C:\n",
    "    def __init__(self, init_pop, mutation_rate, crossover_rate, fitness_func):\n",
    "        self.pop = init_pop\n",
    "        self.mutation_rate = mutation_rate\n",
    "        self.crossover_rate = crossover_rate\n",
    "        self.fitness_func = fitness_func\n",
    "        self.size = len(init_pop)\n",
    "        self.fitness = [1 for x in range(self.size)]\n",
    "        \n",
    "    def getPop(self):\n",
    "        return self.pop\n",
    "        \n",
    "    def setFitness(self, fitness):\n",
    "        self.fitness = fitness\n",
    "\n",
    "    def breed(self, new_children, label):\n",
    "        next_gen = new_children        \n",
    "        if (label == \"attack\"):\n",
    "            self.fitness = [(1.0 - x) for x in self.fitness]        \n",
    "        elite, mutation, cross = self.getPopClasses(self.fitness, self.size - len(new_children))\n",
    "        \n",
    "        for kid in elite:\n",
    "            next_gen.append(self.pop[kid])\n",
    "        \n",
    "        for kid in mutation:\n",
    "            next_gen.append(self.mutate(self.pop[kid], self.fitness[kid]))\n",
    "        \n",
    "        cross_zip = list(zip(mutation, cross))\n",
    "        for kids in cross_zip:\n",
    "            next_gen.append(self.cross(self.pop[kids[0]], self.pop[kids[1]]))\n",
    "            \n",
    "    def mutate(self, gene, fitness):\n",
    "        for i in range(len(gene)):\n",
    "            prob = random.randint(1,101) / 100.0\n",
    "            if (prob <= self.mutation_rate):\n",
    "                prob = random.randint(1,101)\n",
    "                if (prob > 50):\n",
    "                    gene[i] = gene[i] + (0.1 * gene[i])\n",
    "                else:\n",
    "                    gene[i] = gene[i] - (0.1 * gene[i])\n",
    "        return gene\n",
    "\n",
    "    def cross(self, first, second):\n",
    "        gene = second\n",
    "        for i in range(len(gene)):\n",
    "            prob = random.randint(1,101) / 100.0\n",
    "            if (prob <= self.crossover_rate):\n",
    "                gene[i] = first[i]\n",
    "        return gene\n",
    "\n",
    "    def getPopClasses(self, fitness, new_size):\n",
    "        size = len(fitness)\n",
    "        cat_size = ceil(new_size * 0.3)\n",
    "        elite_size = new_size - (cat_size * 2)\n",
    "        pop_fitness = fitness\n",
    "        \n",
    "        fitness.sort(reverse = True)\n",
    "        fitness = fitness[:new_size]\n",
    "        elite_cat = fitness[:elite_size]\n",
    "        mutation_cat = fitness[elite_size:elite_size + cat_size]\n",
    "        cross_cat = fitness[elite_size + cat_size:]\n",
    "        \n",
    "        elite = []\n",
    "        mutation = []\n",
    "        cross = []\n",
    "        \n",
    "        for i in range(size):\n",
    "            if pop_fitness[i] in elite_cat:\n",
    "                elite.append(i)\n",
    "            elif pop_fitness[i] in mutation_cat:\n",
    "                mutation.append(i)\n",
    "            elif pop_fitness[i] in cross_cat:\n",
    "                cross.append(i)\n",
    "        \n",
    "        return elite, mutation, cross\n",
    "\n",
    "    def checkFitness(self, flow):\n",
    "        if (self.fitness_func == \"dist\"):\n",
    "            return self.fitnessDist(flow)\n",
    "        elif (self.fitness_func == \"diff\"):\n",
    "            return self.fitnessDiff(flow)\n",
    "        \n",
    "    def fitnessDiff(self, flow):\n",
    "        diffs = []\n",
    "        \n",
    "        for i in range(self.size):\n",
    "            diffs.append(self.checkDiff(flow, self.pop[i]))\n",
    "        \n",
    "        self.fitness = diffs\n",
    "        return (sum(diffs) / len(diffs))\n",
    "\n",
    "    def checkDiff(self, first, second):\n",
    "        diffs = []\n",
    "        gene_size = len(first)\n",
    "        \n",
    "        for i in range(gene_size):\n",
    "            diffs.append(self.getDiff(first[i], second[i]))\n",
    "        \n",
    "        return (sum(diffs) / len(diffs))\n",
    "\n",
    "    def getDiff(self, first, second):\n",
    "        if (first == 0 or second == 0):\n",
    "            if (first != second):\n",
    "                return 1.0\n",
    "            else:\n",
    "                return 0.0\n",
    "        else:\n",
    "            return ((abs(first-second)) * 1.0 / first)\n",
    "\n",
    "    def fitnessDist(self, flow):\n",
    "        print(\"Distance fitness not defined yet\")\n",
    "\n",
    "    def checkDist(self, first, second):\n",
    "        print(\"Distance fitness not defined yet\")"
   ]
  },
  {
   "cell_type": "markdown",
   "metadata": {},
   "source": [
    "Blue Team"
   ]
  },
  {
   "cell_type": "code",
   "execution_count": 4,
   "metadata": {},
   "outputs": [],
   "source": [
    "class Blue_C:\n",
    "    def __init__(self, init_pop, size, mutation_rate, crossover_rate, fitness_func):\n",
    "        #genome = GA_C(init_pop, size, mutation_rate, crossover_rate, fitness_func)\n",
    "        self.genome = genome\n",
    "        self.size = size\n",
    "\n",
    "    def getPop(self):\n",
    "        return self.genome.getPop()\n",
    "\n",
    "    def breed(self, label):\n",
    "        self.genome.breed([], label)\n",
    "\n",
    "    def defend(self, flow):\n",
    "        fitness = self.genome.checkFitness(flow)\n",
    "        return fitness"
   ]
  },
  {
   "cell_type": "markdown",
   "metadata": {},
   "source": [
    "Red Team"
   ]
  },
  {
   "cell_type": "code",
   "execution_count": 5,
   "metadata": {},
   "outputs": [],
   "source": [
    "class Red_C:\n",
    "    def __init__(self, data, init_pop, size, mutation_rate, crossover_rate, fitness_func):\n",
    "        if len(init_pop) != size:\n",
    "            extension, data = randomListPick(data, size - len(init_pop))\n",
    "            init_pop = init_pop + extension\n",
    "\n",
    "        genome = GA_C(init_pop, size, mutation_rate, crossover_rate, fitness_func)\n",
    "        \n",
    "        self.genome = genome\n",
    "        self.data = data\n",
    "        self.size = size\n",
    "\n",
    "    def getPop(self):\n",
    "        return self.genome.getPop()\n",
    "\n",
    "    def breed(self, fitness_values, new_rate):\n",
    "        new_children, self.data = randomeListPick(self.data, new_rate)\n",
    "        self.genome.setFitness(fitness_values)\n",
    "        self.genome.breed(new_children, \"\")"
   ]
  },
  {
   "cell_type": "code",
   "execution_count": null,
   "metadata": {},
   "outputs": [],
   "source": []
  }
 ],
 "metadata": {
  "kernelspec": {
   "display_name": "Python 3",
   "language": "python",
   "name": "python3"
  },
  "language_info": {
   "codemirror_mode": {
    "name": "ipython",
    "version": 3
   },
   "file_extension": ".py",
   "mimetype": "text/x-python",
   "name": "python",
   "nbconvert_exporter": "python",
   "pygments_lexer": "ipython3",
   "version": "3.7.3"
  }
 },
 "nbformat": 4,
 "nbformat_minor": 2
}
