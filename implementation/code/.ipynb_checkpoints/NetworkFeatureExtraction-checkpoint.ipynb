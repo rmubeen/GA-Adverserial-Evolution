{
 "cells": [
  {
   "cell_type": "code",
   "execution_count": 5,
   "metadata": {},
   "outputs": [],
   "source": [
    "#basic\n",
    "import re\n",
    "import os\n",
    "import sys\n",
    "import math\n",
    "import json\n",
    "import pandas as pd\n",
    "import time\n",
    "import datetime\n",
    "from dateutil import parser\n",
    "import numpy as np\n",
    "\n",
    "#evtx\n",
    "import Evtx.Evtx as evtx\n",
    "import Evtx.Views as e_views\n",
    "\n",
    "#xml\n",
    "import xmltodict"
   ]
  },
  {
   "cell_type": "code",
   "execution_count": 6,
   "metadata": {},
   "outputs": [],
   "source": [
    "dataDir = \"../data/processed\"\n",
    "filter_ = \"Wednesday\""
   ]
  },
  {
   "cell_type": "code",
   "execution_count": 7,
   "metadata": {},
   "outputs": [],
   "source": [
    "def readData(dataDir, filter_):\n",
    "    dirList = os.listdir(dataDir)\n",
    "    dataFiles = [os.path.join(dataDir, x) for x in dirList if filter_ in x]\n",
    "\n",
    "    for file in dataFiles:\n",
    "        data = pd.read_csv(file)\n",
    "            \n",
    "    return data"
   ]
  },
  {
   "cell_type": "code",
   "execution_count": 8,
   "metadata": {},
   "outputs": [
    {
     "name": "stdout",
     "output_type": "stream",
     "text": [
      "dataset Dirs:  ../data/processed\n"
     ]
    },
    {
     "name": "stderr",
     "output_type": "stream",
     "text": [
      "/home/mubeen/.local/lib/python3.7/site-packages/IPython/core/interactiveshell.py:3248: DtypeWarning: Columns (0,1,3,4,5,6,7,8,9,10,11,12,13,14,15,16,18,19,20,21,22,23,24,25,26,27,28,29,30,31,32,33,34,35,36,37,38,39,40,41,42,43,44,45,46,47,48,49,50,51,52,53,54,55,56,57,58,59,60,61,62,63,64,65,66,67,68,69,70,71,72,73,74,75,76,77,78) have mixed types. Specify dtype option on import or set low_memory=False.\n",
      "  if (await self.run_code(code, result,  async_=asy)):\n"
     ]
    }
   ],
   "source": [
    "print(\"dataset Dirs: \", dataDir)\n",
    "data = readData(dataDir, filter_)"
   ]
  },
  {
   "cell_type": "code",
   "execution_count": null,
   "metadata": {},
   "outputs": [],
   "source": [
    "for index, row in data.iterrows():\n",
    "    temp = parser.parse(row['Timestamp'])\n",
    "    data.loc[index, 'Timestamp'] = time.mktime(temp.timetuple())"
   ]
  },
  {
   "cell_type": "code",
   "execution_count": null,
   "metadata": {},
   "outputs": [],
   "source": [
    "pd.set_option('display.max_row', 100, 'display.max_columns', None)\n",
    "print(len(data.index))\n",
    "display(data)"
   ]
  }
 ],
 "metadata": {
  "kernelspec": {
   "display_name": "Python 3",
   "language": "python",
   "name": "python3"
  },
  "language_info": {
   "codemirror_mode": {
    "name": "ipython",
    "version": 3
   },
   "file_extension": ".py",
   "mimetype": "text/x-python",
   "name": "python",
   "nbconvert_exporter": "python",
   "pygments_lexer": "ipython3",
   "version": "3.7.3"
  }
 },
 "nbformat": 4,
 "nbformat_minor": 2
}
