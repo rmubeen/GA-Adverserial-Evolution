{
 "cells": [
  {
   "cell_type": "markdown",
   "metadata": {},
   "source": [
    "# Experimenting with features from UNB CIS IDS 2018 dataset"
   ]
  },
  {
   "cell_type": "raw",
   "metadata": {},
   "source": [
    "Extract features for Infiltration Attacks on 28-02-2018 and 01-03-208.\n",
    "    Include SRC/DST addresses."
   ]
  },
  {
   "cell_type": "markdown",
   "metadata": {},
   "source": [
    "Include external libraries and tools."
   ]
  },
  {
   "cell_type": "code",
   "execution_count": 229,
   "metadata": {},
   "outputs": [],
   "source": [
    "import os\n",
    "import sys\n",
    "import math\n",
    "import Evtx.Evtx as evtx\n",
    "import Evtx.Views as e_views"
   ]
  },
  {
   "cell_type": "markdown",
   "metadata": {},
   "source": [
    "Define global variables."
   ]
  },
  {
   "cell_type": "code",
   "execution_count": 230,
   "metadata": {},
   "outputs": [],
   "source": [
    "infilterationDirs = {\"/home/san/Tools/GA/datasets/unb-cic-ids-2018/Original/Wednesday-28-02-2018/logs\": [\"18.221.148.137\", \"172.31.69.24\"],\n",
    "               \"/home/san/Tools/GA/datasets/unb-cic-ids-2018/Original/Thursday-01-03-2018/logs\": [\"18.216.254.154\", \"172.31.69.13\"]}"
   ]
  },
  {
   "cell_type": "markdown",
   "metadata": {},
   "source": [
    "Function: readData[][dirNumber, dataSetDir][]. Read all directories of UNB dataset."
   ]
  },
  {
   "cell_type": "code",
   "execution_count": 231,
   "metadata": {},
   "outputs": [],
   "source": [
    "def readData(dataSetDir, filters):\n",
    "    dirList = os.listdir(dataSetDir)\n",
    "    dataFiles = []\n",
    "\n",
    "\n",
    "    # Filtering files related to infilteration attack\n",
    "\n",
    "    for dir_ in dirList:\n",
    "        curDir = os.path.join(dataSetDir, dir_)\n",
    "        for filter_ in filters:\n",
    "            if (curDir.find(filter_) != -1):\n",
    "                dataFiles.append(curDir)\n",
    "\n",
    "\n",
    "    # Reading files related to infilteration attack\n",
    "\n",
    "    for file in dataFiles:\n",
    "        print(\"file: \" + file)\n",
    "        \n",
    "        with evtx.Evtx(file) as log:\n",
    "            print(e_views.XML_HEADER)\n",
    "            print(\"<Events>\")\n",
    "            for record in log.records():\n",
    "                print(record.head())                \n",
    "                print(record.xml())\n",
    "                break\n",
    "            print(\"</Events>\")\n",
    "        \n",
    "        break\n"
   ]
  },
  {
   "cell_type": "markdown",
   "metadata": {},
   "source": [
    "Function: main[dataSetDirs][][]."
   ]
  },
  {
   "cell_type": "code",
   "execution_count": 232,
   "metadata": {},
   "outputs": [],
   "source": [
    "def main():\n",
    "    print(\"dataset Dirs: \", infilterationDirs)\n",
    "    for dir_ in infilterationDirs:\n",
    "        readData(dir_, infilterationDirs[dir_])"
   ]
  },
  {
   "cell_type": "markdown",
   "metadata": {},
   "source": [
    "Main section."
   ]
  },
  {
   "cell_type": "code",
   "execution_count": 233,
   "metadata": {},
   "outputs": [
    {
     "name": "stdout",
     "output_type": "stream",
     "text": [
      "dataset Dirs:  {'/home/san/Tools/GA/datasets/unb-cic-ids-2018/Original/Wednesday-28-02-2018/logs': ['18.221.148.137', '172.31.69.24'], '/home/san/Tools/GA/datasets/unb-cic-ids-2018/Original/Thursday-01-03-2018/logs': ['18.216.254.154', '172.31.69.13']}\n",
      "file: /home/san/Tools/GA/datasets/unb-cic-ids-2018/Original/Wednesday-28-02-2018/logs/EC2AMAZ-O4EL3NG-172.31.69.24.evtx\n",
      "<?xml version=\"1.1\" encoding=\"utf-8\" standalone=\"yes\" ?>\n",
      "\n",
      "<Events>\n",
      "<Event xmlns=\"http://schemas.microsoft.com/win/2004/08/events/event\"><System><Provider Name=\"Microsoft-Windows-Eventlog\" Guid=\"{fc65ddd8-d6ef-4962-83d5-6e5cfe9ce148}\"></Provider>\n",
      "<EventID Qualifiers=\"\">104</EventID>\n",
      "<Version>0</Version>\n",
      "<Level>4</Level>\n",
      "<Task>104</Task>\n",
      "<Opcode>0</Opcode>\n",
      "<Keywords>0x8000000000000000</Keywords>\n",
      "<TimeCreated SystemTime=\"2018-01-13 03:32:18.881237\"></TimeCreated>\n",
      "<EventRecordID>18143</EventRecordID>\n",
      "<Correlation ActivityID=\"\" RelatedActivityID=\"\"></Correlation>\n",
      "<Execution ProcessID=\"1040\" ThreadID=\"1588\"></Execution>\n",
      "<Channel>System</Channel>\n",
      "<Computer>EC2AMAZ-9ENFQRN</Computer>\n",
      "<Security UserID=\"S-1-5-21-798533991-437016557-2328494185-500\"></Security>\n",
      "</System>\n",
      "<UserData><LogFileCleared xmlns=\"http://manifests.microsoft.com/win/2004/08/windows/eventlog\"><SubjectUserName>Administrator</SubjectUserName>\n",
      "<SubjectDomainName>EC2AMAZ-9ENFQRN</SubjectDomainName>\n",
      "<Channel>System</Channel>\n",
      "<BackupPath></BackupPath>\n",
      "</LogFileCleared>\n",
      "</UserData>\n",
      "</Event>\n",
      "\n",
      "</Events>\n",
      "file: /home/san/Tools/GA/datasets/unb-cic-ids-2018/Original/Thursday-01-03-2018/logs/EC2AMAZ-O4EL3NG-172.31.69.13.evtx\n",
      "<?xml version=\"1.1\" encoding=\"utf-8\" standalone=\"yes\" ?>\n",
      "\n",
      "<Events>\n",
      "<Event xmlns=\"http://schemas.microsoft.com/win/2004/08/events/event\"><System><Provider Name=\"Microsoft-Windows-Eventlog\" Guid=\"{fc65ddd8-d6ef-4962-83d5-6e5cfe9ce148}\"></Provider>\n",
      "<EventID Qualifiers=\"\">104</EventID>\n",
      "<Version>0</Version>\n",
      "<Level>4</Level>\n",
      "<Task>104</Task>\n",
      "<Opcode>0</Opcode>\n",
      "<Keywords>0x8000000000000000</Keywords>\n",
      "<TimeCreated SystemTime=\"2018-03-01 14:02:27.518419\"></TimeCreated>\n",
      "<EventRecordID>29259</EventRecordID>\n",
      "<Correlation ActivityID=\"\" RelatedActivityID=\"\"></Correlation>\n",
      "<Execution ProcessID=\"560\" ThreadID=\"3236\"></Execution>\n",
      "<Channel>System</Channel>\n",
      "<Computer>EC2AMAZ-O4EL3NG</Computer>\n",
      "<Security UserID=\"S-1-5-21-2658501782-1119487302-2855053826-500\"></Security>\n",
      "</System>\n",
      "<UserData><LogFileCleared xmlns=\"http://manifests.microsoft.com/win/2004/08/windows/eventlog\"><SubjectUserName>Administrator</SubjectUserName>\n",
      "<SubjectDomainName>EC2AMAZ-O4EL3NG</SubjectDomainName>\n",
      "<Channel>System</Channel>\n",
      "<BackupPath></BackupPath>\n",
      "</LogFileCleared>\n",
      "</UserData>\n",
      "</Event>\n",
      "\n",
      "</Events>\n"
     ]
    }
   ],
   "source": [
    "main()"
   ]
  }
 ],
 "metadata": {
  "kernelspec": {
   "display_name": "Python 3",
   "language": "python",
   "name": "python3"
  },
  "language_info": {
   "codemirror_mode": {
    "name": "ipython",
    "version": 3
   },
   "file_extension": ".py",
   "mimetype": "text/x-python",
   "name": "python",
   "nbconvert_exporter": "python",
   "pygments_lexer": "ipython3",
   "version": "3.7.3"
  }
 },
 "nbformat": 4,
 "nbformat_minor": 2
}
